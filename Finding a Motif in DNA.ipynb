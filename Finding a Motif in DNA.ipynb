{
  "cells": [
    {
      "metadata": {
        "collapsed": true
      },
      "cell_type": "markdown",
      "source": "# Combing Through the Haystackclick to collapse\n\n\nFinding the same interval of DNA in the genomes of two different organisms (often taken from different species) is highly suggestive that the interval has the same function in both organisms.\nWe define a motif as such a commonly shared interval of DNA. A common task in molecular biology is to search an organism's genome for a known motif.\nThe situation is complicated by the fact that genomes are riddled with intervals of DNA that occur multiple times (possibly with slight modifications), called repeats. These repeats occur far more often than would be dictated by random chance, indicating that genomes are anything but random and in fact illustrate that the language of DNA must be very powerful (compare with the frequent reuse of common words in any human language).\nThe most common repeat in humans is the Alu repeat, which is approximately 300 bp long and recurs around a million times throughout every human genome (see Figure 1). However, Alu has not been found to serve a positive purpose, and appears in fact to be parasitic: when a new Alu repeat is inserted into a genome, it frequently causes genetic disorders.\n\n## problem\n**Given:** Two DNA strings s and t (each of length at most 1 kbp).\n**Return**: All locations of t as a substring of s."
    },
    {
      "metadata": {
        "trusted": true
      },
      "cell_type": "code",
      "source": "testo= \"CGGGACGGATATGTGAGATATGTGATATGTGATATGTCAGCTTCGTTGATATGTCATCGATATGTTGATATGTTCGATATGTGATATGTGATATGTGGATATGTGTGGAGGCGATATGTCTTCGATATGTGATATGTCTCGATATGTGATATGTAGAGGATATGTTGATATGTGATATGTGATATGTCGATATGTCAGTCGATATGTACCGATATGTTGATATGTATGGATATGTTGCCGATATGTGTGAATAACGATATGTGATATGTGATATGTTATGAGATATGTTTGTCGATATGTGATATGTAACCGATATGTGGAGATATGTTTGGTGATATGTGATATGTAGCTACCGATATGTCCGATGATATGTGCGATATGTGATATGTGCAGATATGTGCAGATATGTTGATATGTGTGCATCGATATGTGGATATGTCCTGGATATGTGATATGTTTTGATATGTTTGTCGATATGTAGACTTTGATATGTCCGATATGTAAGACAGATATGTGATATGTAGATATGTTGATATGTGATATGTTGTGATATGTGATATGTCCGTGATATGTAAGCGTGGATATGTCCTTGATATGTGATATGTCGGATATGTACGATATGTTGGATATGTTAGATATGTAGCGATATGTGGGATATGTTGGATATGTGGATATGTCAGTTCGATATGTTGATATGTATCCGGATATGTTGATTGTGATATGTCTCGGGATATGTGATATGTTAGATATGTGATATGTGATATGTGATATGTGATGATATGTGATATGTAGATATGTCCGATATGTGGATATGTATGGATATGTGATGATATGTTCGAGATATGTCGATATGTCGAAGGATATGTCAGGCATGATATGTGATATGT\"\nseq= \"GATATGTGA\"\nleng= len(testo)-1\nlengseq= len(seq)\nlista= []",
      "execution_count": 44,
      "outputs": []
    },
    {
      "metadata": {
        "trusted": true
      },
      "cell_type": "code",
      "source": "lista.clear()\nfor el in range(0,leng):\n    if testo[el]== seq[0]:\n        if testo[el:el+lengseq]== seq:\n            lista.append(el+1)\nprint(\" \".join(map(str,lista)))\n        \n            \n            ",
      "execution_count": 46,
      "outputs": [
        {
          "output_type": "stream",
          "text": "8 17 24 76 83 124 141 167 174 256 263 294 334 376 444 509 532 549 592 730 746 753 760 767 777 819 874\n",
          "name": "stdout"
        }
      ]
    },
    {
      "metadata": {
        "trusted": true
      },
      "cell_type": "code",
      "source": "testo[3::5]",
      "execution_count": 6,
      "outputs": [
        {
          "output_type": "execute_result",
          "execution_count": 6,
          "data": {
            "text/plain": "'ACA'"
          },
          "metadata": {}
        }
      ]
    },
    {
      "metadata": {},
      "cell_type": "markdown",
      "source": "leandro lima usa la funzione:"
    },
    {
      "metadata": {},
      "cell_type": "raw",
      "source": "for i in range(len(s1)):\n    if s1[i:].startswith(s2):\n        print i+1,"
    },
    {
      "metadata": {},
      "cell_type": "raw",
      "source": "from Bio import motifs\nfrom Bio.Seq import Seq\nf = 'GATATATGCATATACTT'\np = 'ATAT'\ntarget_seq = Seq(f)\nmotif = motifs.create([Seq(p)])\nfor pos,seq in motif.instances.search(target_seq):\n    print(str(pos+1),end = ' ')"
    },
    {
      "metadata": {
        "trusted": true
      },
      "cell_type": "code",
      "source": "",
      "execution_count": null,
      "outputs": []
    }
  ],
  "metadata": {
    "kernelspec": {
      "name": "python36",
      "display_name": "Python 3.6",
      "language": "python"
    },
    "language_info": {
      "mimetype": "text/x-python",
      "nbconvert_exporter": "python",
      "name": "python",
      "pygments_lexer": "ipython3",
      "version": "3.6.6",
      "file_extension": ".py",
      "codemirror_mode": {
        "version": 3,
        "name": "ipython"
      }
    }
  },
  "nbformat": 4,
  "nbformat_minor": 2
}