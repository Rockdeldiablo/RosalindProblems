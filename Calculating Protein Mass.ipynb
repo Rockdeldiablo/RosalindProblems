{
  "cells": [
    {
      "metadata": {
        "collapsed": true
      },
      "cell_type": "markdown",
      "source": "# Chaining the Amino Acids\n\n \nIn “Translating RNA into Protein”, we examined the translation of RNA into an amino acid chain for the construction of a protein. When two amino acids link together, they form a peptide bond, which releases a molecule of water; see Figure 1. Thus, after a series of amino acids have been linked together into a polypeptide, every pair of adjacent amino acids has lost one molecule of water, meaning that a polypeptide containing n amino acids has had n−1 water molecules removed.\n\nMore generally, a residue is a molecule from which a water molecule has been removed; every amino acid in a protein are residues except the leftmost and the rightmost ones. These outermost amino acids are special in that one has an \"unstarted\" peptide bond, and the other has an \"unfinished\" peptide bond. Between them, the two molecules have a single \"extra\" molecule of water (see the atoms marked in blue in Figure 2). Thus, the mass of a protein is the sum of masses of all its residues plus the mass of a single water molecule.\n\nThere are two standard ways of computing the mass of a residue by summing the masses of its individual atoms. Its monoisotopic mass is computed by using the principal (most abundant) isotope of each atom in the amino acid, whereas its average mass is taken by taking the average mass of each atom in the molecule (over all naturally appearing isotopes).\n\nMany applications in proteomics rely on mass spectrometry, an analytical chemical technique used to determine the mass, elemental composition, and structure of molecules. In mass spectrometry, monoisotopic mass is used more often than average mass, and so all amino acid masses are assumed to be monoisotopic unless otherwise stated.\n\nThe standard unit used in mass spectrometry for measuring mass is the atomic mass unit, which is also called the dalton (Da) and is defined as one twelfth of the mass of a neutral atom of carbon-12. The mass of a protein is the sum of the monoisotopic masses of its amino acid residues plus the mass of a single water molecule (whose monoisotopic mass is 18.01056 Da).\n\nIn the following several problems on applications of mass spectrometry, we avoid the complication of having to distinguish between residues and non-residues by only considering peptides excised from the middle of the protein. This is a relatively safe assumption because in practice, peptide analysis is often performed in tandem mass spectrometry. In this special class of mass spectrometry, a protein is first divided into peptides, which are then broken into ions for mass analysis."
    },
    {
      "metadata": {
        "trusted": true
      },
      "cell_type": "code",
      "source": "ammino_sequence = input(\"ayy\\n\").upper()\nammino_seq_lenght = len(ammino_sequence)",
      "execution_count": 76,
      "outputs": [
        {
          "output_type": "stream",
          "name": "stdout",
          "text": "ayy\nVTGLKFPLHKMCMFGVQIALLDEFVVTFTEEVHQAICKRCSMNKQVTYQEDDKNAQGDSIFVRDDDMAIHVHWHGMMTAQPKILYRCHISCLLQFRDPSISRSLFGQNTYHHDLGKNGPHCWCSPSQKDICKWHTKHQKSDDSNLWTDRHLILFSIYQAMNEWPYNWRMDYVNCYWICKKACLQHEYSWHHITDWDHESIKIKNLCKLVPKKVWGWFHMKESQFKEVYFNCFHCTSFQMEQPFPNTHNIAGQIVDIMTHYNMRMIDYEVQEVYSDGMAMCNTTLCIAFWEFRTHKQDQFLYYDWTGMRESTFKGINFPVFKGGMKYSNRFWYMRIAFCVCQCERQYFPTKQHATYVPNKPRTTEVKGYFDSNVWACIACAGTKMKLTVIEMDHCETMWSRFRHWLDKPKFDWSRPWRGEMLEYEERVHYKSWRHHTETFFMLACHIIIVGLETKDARIRMNQNQCDWRMSCHRNCCPYALQSHTGSQAKYAGGGSSQWQCWARSAHLPWRPPMLWGYEEMCGKYLDFVNIKDNYVHGYTPDKVVSIFSFSPGMVRPGFEWRQEDWKTIYTLSCPNEGRDGQWETQLSCTYMWEYTDMEMGKDKNNHTQPDTMSHGMTCGIMKFRCVCHNQSRPSYDHGEICNDHPPVSIYTMELKYGVYQNFLEKLCDTIIYCPIDRCSEAILAMNSRCSCTFEGPIQFVKPLAYMAHWHGQNQNTKTCKMRLRVPFYHVWLYMQGYTFRWSVHGFDVDGTDPDMCQCFCMHHMCTLMMMMFVLVFQRTRYLQVPINNKWRLPSEITNYQGSPADNSTIDADAIHTPRKHMEQWEVIFWKYHDMGYCNISPFFRDTFWRINYHLRTLFATTICPFWQVWKHKQDWKQPEEHITQAYPCYARFY\n"
        }
      ]
    },
    {
      "metadata": {
        "trusted": true
      },
      "cell_type": "code",
      "source": "from collections import Counter\nisotopic_diz = {}\nwith open ('files/monoisotopic mass table.txt') as file:\n    lines = file.readlines()\n    for line in lines:\n        line = line.strip().split()\n        isotopic_diz[line[0]] = line[1]       \nprint(isotopic_diz)",
      "execution_count": 57,
      "outputs": [
        {
          "output_type": "stream",
          "text": "{'A': '71.03711', 'C': '103.00919', 'D': '115.02694', 'E': '129.04259', 'F': '147.06841', 'G': '57.02146', 'H': '137.05891', 'I': '113.08406', 'K': '128.09496', 'L': '113.08406', 'M': '131.04049', 'N': '114.04293', 'P': '97.05276', 'Q': '128.05858', 'R': '156.10111', 'S': '87.03203', 'T': '101.04768', 'V': '99.06841', 'W': '186.07931', 'Y': '163.06333'}\n",
          "name": "stdout"
        }
      ]
    },
    {
      "metadata": {
        "trusted": true
      },
      "cell_type": "code",
      "source": "tally= Counter(ammino_sequence)",
      "execution_count": 77,
      "outputs": []
    },
    {
      "metadata": {
        "trusted": true
      },
      "cell_type": "code",
      "source": "\n#for el,value in tally.items():\n\nprint(round(sum([float(isotopic_diz[el.upper()])*value for el,value in tally.items() ]),3))",
      "execution_count": 78,
      "outputs": [
        {
          "output_type": "stream",
          "text": "106894.969\n",
          "name": "stdout"
        }
      ]
    },
    {
      "metadata": {
        "trusted": true
      },
      "cell_type": "code",
      "source": " \nres= 0\nfor el,value in tally.items():\n    print(res)\n    res += float(isotopic_diz[el.upper()])* value\n    \nprint(round(res,3))",
      "execution_count": 79,
      "outputs": [
        {
          "output_type": "stream",
          "text": "0\n4061.80481\n9518.37953\n11856.25939\n16492.70585\n23153.64377\n30359.99586\n34242.10626\n40957.99285\n47247.93637\n52192.377490000006\n58211.130750000004\n63526.08157\n65799.26909\n71435.58915\n76855.37793\n83723.82677\n87640.26812\n91973.89945999999\n99637.87597\n106894.969\n",
          "name": "stdout"
        }
      ]
    },
    {
      "metadata": {},
      "cell_type": "markdown",
      "source": "### modi alternativi letti su rosalind:"
    },
    {
      "metadata": {
        "trusted": true
      },
      "cell_type": "code",
      "source": " f = open('files/monoisotopic mass table.txt', 'r')\nmass = f.read()\n#mass string to list\nmass = mass.split()\nprint(mass)\nprint(mass[0::2])\n#mass string to dict\nmass = dict(zip(mass[0::2],mass[1::2]))\n",
      "execution_count": 88,
      "outputs": [
        {
          "output_type": "stream",
          "text": "['A', '71.03711', 'C', '103.00919', 'D', '115.02694', 'E', '129.04259', 'F', '147.06841', 'G', '57.02146', 'H', '137.05891', 'I', '113.08406', 'K', '128.09496', 'L', '113.08406', 'M', '131.04049', 'N', '114.04293', 'P', '97.05276', 'Q', '128.05858', 'R', '156.10111', 'S', '87.03203', 'T', '101.04768', 'V', '99.06841', 'W', '186.07931', 'Y', '163.06333']\n['A', 'C', 'D', 'E', 'F', 'G', 'H', 'I', 'K', 'L', 'M', 'N', 'P', 'Q', 'R', 'S', 'T', 'V', 'W', 'Y']\n",
          "name": "stdout"
        }
      ]
    },
    {
      "metadata": {
        "trusted": true
      },
      "cell_type": "code",
      "source": "",
      "execution_count": null,
      "outputs": []
    }
  ],
  "metadata": {
    "kernelspec": {
      "name": "python36",
      "display_name": "Python 3.6",
      "language": "python"
    },
    "language_info": {
      "mimetype": "text/x-python",
      "nbconvert_exporter": "python",
      "name": "python",
      "pygments_lexer": "ipython3",
      "version": "3.6.6",
      "file_extension": ".py",
      "codemirror_mode": {
        "version": 3,
        "name": "ipython"
      }
    }
  },
  "nbformat": 4,
  "nbformat_minor": 2
}