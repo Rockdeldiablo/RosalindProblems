{
  "cells": [
    {
      "metadata": {
        "collapsed": true
      },
      "cell_type": "markdown",
      "source": "# Rosalind exercises 2-5\n\n\n## Exercise 2: Transcribing DNA into RNA\n### The Second Nucleic Acid\n\nIn “Counting DNA Nucleotides”, we described the primary structure of a nucleic acid as a polymer of nucleotide units, and we mentioned that the omnipresent nucleic acid DNA is composed of a varied sequence of four bases.\n\nYet a second nucleic acid exists alongside DNA in the chromatin; this molecule, which possesses a different sugar called ribose, came to be known as ribose nucleic acid, or RNA. RNA differs further from DNA in that it contains a base called uracil in place of thymine; structural differences between DNA and RNA are shown in Figure 1. Biologists initially believed that RNA was only contained in plant cells, whereas DNA was restricted to animal cells. However, this hypothesis dissipated as improved chemical methods discovered both nucleic acids in the cells of all life forms on Earth.\n\nThe primary structure of DNA and RNA is so similar because the former serves as a blueprint for the creation of a special kind of RNA molecule called messenger RNA, or mRNA. mRNA is created during RNA transcription, during which a strand of DNA is used as a template for constructing a strand of RNA by copying nucleotides one at a time, where uracil is used in place of thymine.\n\nIn eukaryotes, DNA remains in the nucleus, while RNA can enter the far reaches of the cell to carry out DNA's instructions. In future problems, we will examine the process and ramifications of RNA transcription in more detail.\n"
    },
    {
      "metadata": {},
      "cell_type": "markdown",
      "source": "### Problem\nAn RNA string is a string formed from the alphabet containing 'A', 'C', 'G', and 'U'.\nGiven a DNA string t corresponding to a coding strand, its transcribed RNA string u is formed by replacing all occurrences of 'T' in t with 'U' in u.\n\n* *Given * *: **A DNA string t having length at most 1000 nt.**\n\n* * Return: **The transcribed RNA string of t.**"
    },
    {
      "metadata": {
        "trusted": true,
        "scrolled": true
      },
      "cell_type": "code",
      "source": "string = \"TCACCTGGTGTTGACCAGCTCAGCCCCATCGTATGCCCAGTAAAAGCTAGAGCGGGGACGGGATACGAACTATCCAACGCCGTGCAAACCTATCTATTTTACAGCCTGGTAATACAGGCTGCTATCCTCTCGGTCTTACTTTAAGAGCGGCTGACCGGCACTAGTCATCAACGCAGCCGCGGCCACTTTGACTCGAGTTCTCGATGTGCTCGCGCTCACTGTTCCGTGTATTAGTCTCTAAGGTCGCCTCTACGGAAACTGACATCATTGTGCAACAAATCCGCACAGTCCTCGATTATTGAATCTTCTAGCGATTGCATGACGTTGGGAGTCGCCTTTGCACCTAACCAACGATGTCCAACCGGTGGTGCTTAGAAATTGTCCTTATCTCTCGACATTACATCGCAAGGCTTAATCCGACGAAGGGTTTCCCCAGATTGTGACCCGGTAGATCTTCGGTTAATTGAGTGCCATCCTCATCACATTCCGGCTATCAGCAAATTCATGAACTGCGGAGTCATGTGAATCCATTATTTGTGCAATCTCATTTGGGCTGAGCGGGTTACTTACCCATCGTATAGAGACGGCGCGCACTTACTTCAGTGAGCTCCCGAGTACCGATTGAGCTCTTTTCGGGATGAGATCTGACTGTAGATCTAAATAACTTACGCCACAAAATTCGGTACTAGTGCATGCGAGGGATAACGCCCCCTAAGCCAAGACAGCGCAACGGGTAGAGTCTGGAGGGACGAGCTCGGCAGTCCGCTCCATGTGTTCTGCTGTCCTCGGTAGCGCTTAGATCAAACCCGCGGCATCAGAGTGCCCTGAGACAATTCTGCGGTGCATTAAGAGCGTTTTCTATAAGTTGGCTTTCAACACTCTTACATTCGTTCAACCGGCCAATACCTGATGGAGTTCATGGACTATGTTTCTTCCCTAGATTTTGACCCGTGGTGTGGTCCATGGGAACTTCGGACGAGC\"\nstring.replace(\"T\",\"U\")",
      "execution_count": 5,
      "outputs": [
        {
          "output_type": "execute_result",
          "execution_count": 5,
          "data": {
            "text/plain": "'UCACCUGGUGUUGACCAGCUCAGCCCCAUCGUAUGCCCAGUAAAAGCUAGAGCGGGGACGGGAUACGAACUAUCCAACGCCGUGCAAACCUAUCUAUUUUACAGCCUGGUAAUACAGGCUGCUAUCCUCUCGGUCUUACUUUAAGAGCGGCUGACCGGCACUAGUCAUCAACGCAGCCGCGGCCACUUUGACUCGAGUUCUCGAUGUGCUCGCGCUCACUGUUCCGUGUAUUAGUCUCUAAGGUCGCCUCUACGGAAACUGACAUCAUUGUGCAACAAAUCCGCACAGUCCUCGAUUAUUGAAUCUUCUAGCGAUUGCAUGACGUUGGGAGUCGCCUUUGCACCUAACCAACGAUGUCCAACCGGUGGUGCUUAGAAAUUGUCCUUAUCUCUCGACAUUACAUCGCAAGGCUUAAUCCGACGAAGGGUUUCCCCAGAUUGUGACCCGGUAGAUCUUCGGUUAAUUGAGUGCCAUCCUCAUCACAUUCCGGCUAUCAGCAAAUUCAUGAACUGCGGAGUCAUGUGAAUCCAUUAUUUGUGCAAUCUCAUUUGGGCUGAGCGGGUUACUUACCCAUCGUAUAGAGACGGCGCGCACUUACUUCAGUGAGCUCCCGAGUACCGAUUGAGCUCUUUUCGGGAUGAGAUCUGACUGUAGAUCUAAAUAACUUACGCCACAAAAUUCGGUACUAGUGCAUGCGAGGGAUAACGCCCCCUAAGCCAAGACAGCGCAACGGGUAGAGUCUGGAGGGACGAGCUCGGCAGUCCGCUCCAUGUGUUCUGCUGUCCUCGGUAGCGCUUAGAUCAAACCCGCGGCAUCAGAGUGCCCUGAGACAAUUCUGCGGUGCAUUAAGAGCGUUUUCUAUAAGUUGGCUUUCAACACUCUUACAUUCGUUCAACCGGCCAAUACCUGAUGGAGUUCAUGGACUAUGUUUCUUCCCUAGAUUUUGACCCGUGGUGUGGUCCAUGGGAACUUCGGACGAGC'"
          },
          "metadata": {}
        }
      ]
    },
    {
      "metadata": {
        "trusted": true
      },
      "cell_type": "code",
      "source": "s = input()\nprint(s.replace(\"T\", \"U\"))",
      "execution_count": 7,
      "outputs": [
        {
          "output_type": "stream",
          "name": "stdout",
          "text": "\"AGGTC\"\n\"AGGUC\"\n"
        }
      ]
    },
    {
      "metadata": {},
      "cell_type": "markdown",
      "source": "you don't even need to leave the BAsh consolle since you can write cat rosalind_rna.txt | tr T U"
    },
    {
      "metadata": {},
      "cell_type": "markdown",
      "source": "### BioPython\n l' ho installato dopo per questo nb ma in genere installandolo all' inizio funziona da subito"
    },
    {
      "metadata": {},
      "cell_type": "raw",
      "source": "from Bio.Seq import Seq\nfrom Bio.Alphabet import generic_dna\nfile = open(\"rosalind_RNA.txt\", \"r\")\ndna = Seq(file.read(), generic_dna)\nrna = dna.transcribe()\nprint rna"
    },
    {
      "metadata": {},
      "cell_type": "markdown",
      "source": "\n### Exercise 3: The Secondary and Tertiary Structures of DNA\n \n In “Counting DNA Nucleotides”, we introduced nucleic acids, and we saw that the primary structure of a nucleic acid is determined by the ordering of its nucleobases along the sugar-phosphate backbone that constitutes the bonds of the nucleic acid polymer. Yet primary structure tells us nothing about the larger, 3-dimensional shape of the molecule, which is vital for a complete understanding of nucleic acids.\n\nThe search for a complete chemical structure of nucleic acids was central to molecular biology research in the mid-20th Century, culminating in 1953 with a publication in Nature of fewer than 800 words by James Watson and Francis Crick. Consolidating a high resolution X-ray image created by Rosalind Franklin and Raymond Gosling with a number of established chemical results, Watson and Crick proposed the following structure for DNA:\n\nThe DNA molecule is made up of two strands, running in opposite directions.\nEach base bonds to a base in the opposite strand. Adenine always bonds with thymine, and cytosine always bonds with guanine; the complement of a base is the base to which it always bonds; see Figure 1.\nThe two strands are twisted together into a long spiral staircase structure called a double helix; see Figure 2.\nBecause they dictate how bases from different strands interact with each other, (1) and (2) above compose the secondary structure of DNA. (3) describes the 3-dimensional shape of the DNA molecule, or its tertiary structure.\n\nIn light of Watson and Crick's model, the bonding of two complementary bases is called a base pair (bp). Therefore, the length of a DNA molecule will commonly be given in bp instead of nt. By complementarity, once we know the order of bases on one strand, we can immediately deduce the sequence of bases in the complementary strand. These bases will run in the opposite order to match the fact that the two strands of DNA run in opposite directions.\n\n#### Problem\nIn DNA strings, symbols 'A' and 'T' are complements of each other, as are 'C' and 'G'.\n\nThe reverse complement of a DNA string s is the string sc formed by reversing the symbols of s, then taking the complement of each symbol (e.g., the reverse complement of \"GTCA\" is \"TGAC\").\n\n**Given**: * *A DNA string s of length at most 1000 bp.* * \n\n**Return**: * *The reverse complement sc of s.* *"
    },
    {
      "metadata": {
        "trusted": true
      },
      "cell_type": "code",
      "source": "def strswitch (str):\n    switcher =  dict()\n    switcher= {\n                \"A\":'T',\n                \"T\":'A',\n                \"C\":'G',\n                \"G\":'C',\n \n             }\n    return switcher.get(str,\"Invalid\")\n    ",
      "execution_count": 29,
      "outputs": []
    },
    {
      "metadata": {
        "trusted": true
      },
      "cell_type": "code",
      "source": "string = \"GATTGCAGGTTGGTGTTCCCGTGTTTAAAGTTCACCTGGCTTAGCACAACTAACCGCACTTCCTCGACTCAGATTAGAACCGGGAGGGTCTATGGCGAGCATGGACTCGTCCACGCTCTTCGCGATAAACAGTCGTCTATAGTCTAGGAGTCTCACGGCCTTCAGGCCCGGAGAAAGTCTCTATGCCATTGCTGACTACGCAATAACGCTAAGGAACGGTTTATTAACTCTCGTCACTCTCTCGATATGTGTCCGGCAGCATTACCCTTCTGGGCTGGAACGCCTGCGAATTCTTATCCTGCAAGAGTAGGTTTTTACTCACTCGGTGGCGATAGATTTTAACATCACCTTTCCATTCGTGAAACAGGGGAGATCCTCGTTGGTTCTTTGAAGCCCGGTCTCATACGATTCGAGGAGAACGTATTCCTCGCGGCCCGCGTACCCACAAGTGGGTCTGTAGACACGCATTCAAGTGTCTCGTCTCGCGGGGAGTCCCGAAGAACGTGACCAGTTCGCCTCGAGCCCACCCCCGTGGCAGAGTGTTATTAGTCTCAAGACCTGTAGGTGAACCCATTAAACTACGTAAACTGACCGACGCACAGTGCGGTACGTTACGACTGACCCCCACCAAAGTTTTATGATTCACATTACTAACTGAAGCTGAGGGAGGTTGAGCGGAGTCTATATACCTGATCTCCTTAGAACAGGGCGGGGCATAAGCGACTTAATAACTCTGGCGCTCCGCCGAACTGGCATGCCGGCCGAAACTAAGGGAAAATTCGAGAGGGTGTGCCGCTAGTAGACTGGGATAGTGATTCCCGGTTAAATATAGGGTGAA\"\nendresult= \"\"\nfor el in string[::-1]:\n \n    endresult = endresult + strswitch(el)\n\n\nprint(endresult)",
      "execution_count": 31,
      "outputs": [
        {
          "output_type": "stream",
          "text": "TTCACCCTATATTTAACCGGGAATCACTATCCCAGTCTACTAGCGGCACACCCTCTCGAATTTTCCCTTAGTTTCGGCCGGCATGCCAGTTCGGCGGAGCGCCAGAGTTATTAAGTCGCTTATGCCCCGCCCTGTTCTAAGGAGATCAGGTATATAGACTCCGCTCAACCTCCCTCAGCTTCAGTTAGTAATGTGAATCATAAAACTTTGGTGGGGGTCAGTCGTAACGTACCGCACTGTGCGTCGGTCAGTTTACGTAGTTTAATGGGTTCACCTACAGGTCTTGAGACTAATAACACTCTGCCACGGGGGTGGGCTCGAGGCGAACTGGTCACGTTCTTCGGGACTCCCCGCGAGACGAGACACTTGAATGCGTGTCTACAGACCCACTTGTGGGTACGCGGGCCGCGAGGAATACGTTCTCCTCGAATCGTATGAGACCGGGCTTCAAAGAACCAACGAGGATCTCCCCTGTTTCACGAATGGAAAGGTGATGTTAAAATCTATCGCCACCGAGTGAGTAAAAACCTACTCTTGCAGGATAAGAATTCGCAGGCGTTCCAGCCCAGAAGGGTAATGCTGCCGGACACATATCGAGAGAGTGACGAGAGTTAATAAACCGTTCCTTAGCGTTATTGCGTAGTCAGCAATGGCATAGAGACTTTCTCCGGGCCTGAAGGCCGTGAGACTCCTAGACTATAGACGACTGTTTATCGCGAAGAGCGTGGACGAGTCCATGCTCGCCATAGACCCTCCCGGTTCTAATCTGAGTCGAGGAAGTGCGGTTAGTTGTGCTAAGCCAGGTGAACTTTAAACACGGGAACACCAACCTGCAATC\n",
          "name": "stdout"
        }
      ]
    },
    {
      "metadata": {},
      "cell_type": "markdown",
      "source": "### note : biopython"
    },
    {
      "metadata": {
        "trusted": true
      },
      "cell_type": "code",
      "source": "!pip install biopython",
      "execution_count": 33,
      "outputs": [
        {
          "output_type": "stream",
          "text": "Collecting biopython\n\u001b[?25l  Downloading https://files.pythonhosted.org/packages/83/3d/e0c8a993dbea1136be90c31345aefc5babdd5046cd52f81c18fc3fdad865/biopython-1.76-cp36-cp36m-manylinux1_x86_64.whl (2.3MB)\n\u001b[K     |████████████████████████████████| 2.3MB 4.1MB/s eta 0:00:01\n\u001b[?25hRequirement already satisfied: numpy in /home/nbuser/anaconda3_501/lib/python3.6/site-packages (from biopython) (1.16.2)\nInstalling collected packages: biopython\nSuccessfully installed biopython-1.76\n\u001b[33mWARNING: You are using pip version 19.3.1; however, version 20.0.2 is available.\nYou should consider upgrading via the 'pip install --upgrade pip' command.\u001b[0m\n",
          "name": "stdout"
        }
      ]
    },
    {
      "metadata": {
        "trusted": true
      },
      "cell_type": "code",
      "source": "from Bio.Seq import Seq\n\nseq = Seq(\"TCGGGCCC\")\nseqq = Seq(\"GTCA\")\n\nprint (seq.reverse_complement())\n\nprint (seqq.reverse_complement())",
      "execution_count": 36,
      "outputs": [
        {
          "output_type": "stream",
          "text": "GGGCCCGA\nTGAC\n",
          "name": "stdout"
        }
      ]
    },
    {
      "metadata": {},
      "cell_type": "markdown",
      "source": "### Exercise 4: Wascally Wabbits\nIn 1202, Leonardo of Pisa (commonly known as Fibonacci) considered a mathematical exercise regarding the reproduction of a population of rabbits. He made the following simplifying assumptions about the population:\n\nThe population begins in the first month with a pair of newborn rabbits.\nRabbits reach reproductive age after one month.\nIn any given month, every rabbit of reproductive age mates with another rabbit of reproductive age.\nExactly one month after two rabbits mate, they produce one male and one female rabbit.\nRabbits never die or stop reproducing.\nFibonacci's exercise was to calculate how many pairs of rabbits would remain in one year. We can see that in the second month, the first pair of rabbits reach reproductive age and mate. In the third month, another pair of rabbits is born, and we have two rabbit pairs; our first pair of rabbits mates again. In the fourth month, another pair of rabbits is born to the original pair, while the second pair reach maturity and mate (with three total pairs). The dynamics of the rabbit population are illustrated in Figure 1. After a year, the rabbit population boasts 144 pairs.\n\nAlthough Fibonacci's assumption of the rabbits' immortality may seem a bit farfetched, his model was not unrealistic for reproduction in a predator-free environment: European rabbits were introduced to Australia in the mid 19th Century, a place with no real indigenous predators for them. Within 50 years, the rabbits had already eradicated many plant species across the continent, leading to irreversible changes in the Australian ecosystem and turning much of its grasslands into eroded, practically uninhabitable parts of the modern Outback (see Figure 2). In this problem, we will use the simple idea of counting rabbits to introduce a new computational topic, which involves building up large solutions from smaller ones.\n\n**Problem**\nA sequence is an ordered collection of objects (usually numbers), which are allowed to repeat. Sequences can be finite or infinite. Two examples are the finite sequence (π,−2–√,0,π) and the infinite sequence of odd numbers (1,3,5,7,9,…). We use the notation an to represent the n-th term of a sequence.\n\nA recurrence relation is a way of defining the terms of a sequence with respect to the values of previous terms. In the case of Fibonacci's rabbits from the introduction, any given month will contain the rabbits that were alive the previous month, plus any new offspring. A key observation is that the number of offspring in any month is equal to the number of rabbits that were alive two months prior. As a result, if Fn represents the number of rabbit pairs alive after the n-th month, then we obtain the Fibonacci sequence having terms Fn that are defined by the recurrence relation Fn=Fn−1+Fn−2 (with F1=F2=1 to initiate the sequence). Although the sequence bears Fibonacci's name, it was known to Indian mathematicians over two millennia ago.\n\nWhen finding the n-th term of a sequence defined by a recurrence relation, we can simply use the recurrence relation to generate terms for progressively larger values of n. This problem introduces us to the computational technique of dynamic programming, which successively builds up solutions by using the answers to smaller cases.\n\n**Given**: Positive integers n≤40 and k≤5.\n\n**Return**: The total number of rabbit pairs that will be present after n months, if we begin with 1 pair and in each generation, every pair of reproduction-age rabbits produces a litter of k rabbit pairs (instead of only 1 pair)."
    },
    {
      "metadata": {
        "trusted": true
      },
      "cell_type": "code",
      "source": "\n  \ndef fibonacci(n,k,a=1): \n \n    if n== 0: \n        print(\"Incorrect input\") \n    elif n == 1: \n        return 0\n    elif n== 2:\n        return 1\n    elif n== 3:\n        return k+1\n    else: \n        temp_fib = a*fibonacci(n-1,k)+fibonacci(n-2,k)*(k) \n        return temp_fib \n  \n \n    \nfibonacci(28,2)\n \n#else w(n-2, k)*k + w(n-1, k)\n#178956971\n#1,2",
      "execution_count": 8,
      "outputs": [
        {
          "output_type": "execute_result",
          "execution_count": 8,
          "data": {
            "text/plain": "89478485"
          },
          "metadata": {}
        }
      ]
    },
    {
      "metadata": {
        "trusted": true
      },
      "cell_type": "code",
      "source": "def fibonaccidead(n,m): \n    if n == 0: \n        return 0\n    elif n== 1:\n        return 1\n    elif n== 2:\n        return 1\n    elif 2<n<=m:\n        temp_fib = fibonaccidead(n-1,m)+fibonaccidead(n-2,m)\n        return temp_fib \n    else:\n        temp_fib = fibonaccidead(n-1,m)+fibonaccidead(n-2,m) - fibonaccidead (n-m,m)\n        return temp_fib \n  \n \n    \nprint(fibonaccidead(29,3))",
      "execution_count": 9,
      "outputs": [
        {
          "output_type": "stream",
          "text": "15\n",
          "name": "stdout"
        }
      ]
    },
    {
      "metadata": {
        "trusted": true
      },
      "cell_type": "code",
      "source": "from itertools import islice\nfrom collections import deque\ndef fib(a=0, b=1):\n    while True:\n        yield a\n        a, b = b, a + b\ndef nth(iterable, n, default=None):\n    \"\"\"\n    Returns the nth item or a default value\n    https://docs.python.org/3/library/itertools.html#itertools-recipes\n    \"\"\"\n    return next(islice(iterable, n, None), default)\n\n\ndef rabbits(max_age):\n    generations = deque(islice(fib(1,1), max_age), maxlen=max_age)\n    while True:\n        yield generations[0]\n        new_borns = generations[-1]\n        generations.append(sum(generations) - new_borns)\n\ndef rabbit(generation, max_age):\n    return nth(rabbits(max_age), generation - 1)",
      "execution_count": 10,
      "outputs": []
    },
    {
      "metadata": {
        "trusted": true
      },
      "cell_type": "code",
      "source": "rabbit(29,3)",
      "execution_count": 11,
      "outputs": [
        {
          "output_type": "execute_result",
          "execution_count": 11,
          "data": {
            "text/plain": "2513"
          },
          "metadata": {}
        }
      ]
    },
    {
      "metadata": {
        "trusted": true
      },
      "cell_type": "markdown",
      "source": "### using caching "
    },
    {
      "metadata": {
        "trusted": true
      },
      "cell_type": "code",
      "source": "fibocache = {}\ndef fibo(n,k):\n    if n == 2 or n == 1:\n        return 1\n    if (n,k) not in fibocache:\n        fibocache[(n,k)] = fibo(n-1,k) + fibo(n-2,k) * k\n    return fibocache[(n,k)]\n\nprint ( fibo( 40, 3) )\n\n",
      "execution_count": 13,
      "outputs": [
        {
          "output_type": "stream",
          "text": "85722212350663\n",
          "name": "stdout"
        }
      ]
    },
    {
      "metadata": {},
      "cell_type": "markdown",
      "source": "#### Python\nThe problem with this solution is that although it IS caching, it is still recursively calling the function twice. Here I have fib1-3 showing what I guess are three different ways to do this (other than the simple recursive, which would take a long time). (This is not my original work - fib1 was my solution, fib2 was found through looking at this and fib3 is from Vladislav.) It seems like bulding the function from the bottom up - i.e. starting from the initial system and calculating upwards until you need to stop (could easily cache this as well, but I haven't in fib2"
    },
    {
      "metadata": {
        "trusted": true
      },
      "cell_type": "code",
      "source": "# non-recursive hence faster than the others\ndef fib0(n, k):\n    adults = 0\n    kits = 1\n    for month in range(n):\n        adults, kits = adults + kits, adults * k\n\n    return adults\n\n# simple recursive\ndef fib1(n, k, a=0, b=1):\n    if n == 0:\n        return a\n    return fib(n - 1, k, a + b, a * k)\n\n# doubly recursive\ndef fib2(n, k, a=0, b=1):\n    if n < 2:\n        return n\n    return k * fib2(n-2, k) + fib(n-1, k)\n\n# doubly recursive with cache  (from Vladislav)\ndef fib3(n,k):\n\n    def fib3a(n, k):\n        if n == 2 or n == 1:\n            return 1\n        if n not in fibocache:\n            fibocache[n] = fib3a(n-1, k) + fib3a(n-2, k) * k\n        return fibocache[n]\n\n    fibocache = {}\n    return fib3a(n, k)",
      "execution_count": 17,
      "outputs": []
    },
    {
      "metadata": {
        "trusted": true
      },
      "cell_type": "code",
      "source": "fib0(30,4)",
      "execution_count": 18,
      "outputs": [
        {
          "output_type": "execute_result",
          "execution_count": 18,
          "data": {
            "text/plain": "436390025825"
          },
          "metadata": {}
        }
      ]
    },
    {
      "metadata": {},
      "cell_type": "markdown",
      "source": "## Exercise 5\n### Evolution as a Sequence of Mistakes\n\nFigure 1. A point mutation in DNA changing a C-G pair to an A-T pair.\nA mutation is simply a mistake that occurs during the creation or copying of a nucleic acid, in particular DNA. Because nucleic acids are vital to cellular functions, mutations tend to cause a ripple effect throughout the cell. Although mutations are technically mistakes, a very rare mutation may equip the cell with a beneficial attribute. In fact, the macro effects of evolution are attributable by the accumulated result of beneficial microscopic mutations over many generations.\nThe simplest and most common type of nucleic acid mutation is a point mutation, which replaces one base with another at a single nucleotide. In the case of DNA, a point mutation must change the complementary base accordingly; see Figure 1.\nTwo DNA strands taken from different organism or species genomes are **homologous** if they share a recent ancestor; thus, counting the number of bases at which homologous strands differ provides us with the minimum number of point mutations that could have occurred on the evolutionary path between the two strands.\nWe are interested in minimizing the number of (point) mutations separating two species because of the biological principle of **parsimony**, which demands that evolutionary histories should be as simply explained as possible.\n\nGiven two strings s and t of equal length, the **Hamming distance between s and t, denoted dH(s,t)**, is the number of corresponding symbols that differ in s and t.\n\n** Given** : Two DNA strings s and t of equal length (not exceeding 1 kbp).\n\n**Return:** The Hamming distance **dH(s,t)**\n\n\n\n\n"
    },
    {
      "metadata": {
        "trusted": true
      },
      "cell_type": "code",
      "source": "stringa = \"TCAGTACTTCTTATTATGTACTTCTCTGGCCCGATTGAGGCCAGTCAAACGTAATGGAATAAACTCGCTGTTTATCGAATCGCTTCCCAGATCACAACCTCCGCACTGAAGGGGCGGGTTTTGTTAGTGCGTGCAAGTCAACATATTCCTCTACGTCTGTTACATGACAGGGGTACCACTCCGAAAAAAGACATTAATTACTTCTCAACAAGACCTAGCCACAGAGGTTAAATCACAAAGGCCGGCGTTCCAAGTAACCTTGTACAAACTCAGCTTACGAGTCTCCCGCCAAACATGGCCGCACTGAATTTAGAGAATATTGTGGCTGTTTACTGTCCCCAACCTGCCAGATGTAGCTGGCACTTAAGAAGTGTTCGAAGACATAGAACAATATAGAGACCAGCATTCCGAGTGACATACAACGGTAGACGCGGCCTCTGCTATTTCACCCCAGCCATGGGCCCTACTTAGAGATACACATTGCCAGTTGCGGAACCTCCTGGATCAGAACCAGATAAGTCGCTGTGAACCTTGCTACGAGTGGTACCAATTGATAAAGGCTATCATTATGAGGCAGCACGACCACGTATATTGACATTGGGTACACGTCGGTCATGGTAATGCACTCTTTGACTCTTCTTGTAGGAGCTGCTTTGCTCAACATCAGGAGAATAGGTGTGCCGTCCTGCCGATTGATACGAAAACATTATGTAGAAACCCACGGCTTTGAAGGCCCTCAGTGCGCCCGGGTGATGTCTTTGACGTGCAAGTGCAAAAGGCATGTATTCTTTGGCGCCTGTATGAGTTCAATACGAACCATATATTGGTCGTCAGTTCTCTGGACAACCGCGTACCAGCGTAGTGCTGATTTTTGTTGGATTCCCGTTGTACTTGTGCGGTCTAGACAGATTCAGAAGGAAGTATACTTGACGGCGCTTACTGAGAAAAATAAAACTGAGTTCCAGTC\"\nstringb = \"ATATTACTGCTTATTATGTCCCTGGCAGGCAGACTCATTCCCAATCCGACCGGGTGGGACAAACTTCATTGGTCGCGCACAGCCGTCGCGGTCCGTGCCTAGACAATAAACTTGTGTTTTTTCATTCTGGATGGCGGATAAAATCCGGCACTCAAATTAGCTCACGCTAAAGTCAAAGTATAAGAACGGGGCACTAGTTCATTGCGCGCACAAATTTTCCATTATGAGAACATCAAAAGCGTCTTCGTTTTATCTGACCTACTAAGATTCTGATGGACTGAGCAGCCCCCACAGGAAGCCGCTGTTGATTTTGACAGCATTTTGGTAGCTGACGGGCACTATGGCGCGAGATGTTTCTGGTGCGATGTTAGTTTCCCGAGAGACTCCTTATATTTGAGACTATCAATCCGCGTAACATGAAACGGTGAACGCGGGCTACTTTATGACAGCCCTGGGAAGGCGGCTCGAGGTGAATACACATTACGCTTAACAGAATCGACTATATCCTAAAGGTTTTGGGCTCTGTGGCACCTCGCTCGAAAGAGGTCCCGAAGTACTTGTGCGCACTAGTGGTGCGCTCGAACCGACATATCACTGATGGGAACTGCTATGTAAATGTTATGTACACCTACACTCTTATTTTTAGGGCGTCCTTCTTAAACAGGCGGGTTTTACGGACGTAACCTCTCCAATACGTCCGTAAACATCGTATTGTATGCCAAGGCTTTTCGAGCTTACTGCTCGAGCTGAGTCTGAATTGGACGAAAAAGGGTCTTTGTGGTGTCCACCTCAGAATTTATCTGTGCAGATTGTGAACCTTCGGTATGCCATTAGTCCTGCGGACAAGCAGCTCCTAACGAAGAGATGATCTTGAGTGCGTTCACATTGCACTCTTGACTTTTACATACCCACCGGAAAAGGTCTATACGCCGATTCGGGCGGGCTCAGATAATGTTGGGTTTCGGTC\"\n",
      "execution_count": 34,
      "outputs": []
    },
    {
      "metadata": {
        "trusted": true
      },
      "cell_type": "code",
      "source": "short = len(stringa) if len(stringa)<= len(stringb) else len(stringb)\nnum = 0\nfor el in range(short-1):\n    if stringa[el] != stringb[el]:\n        num +=1\nprint(num)",
      "execution_count": 35,
      "outputs": [
        {
          "output_type": "stream",
          "text": "492\n",
          "name": "stdout"
        }
      ]
    },
    {
      "metadata": {
        "trusted": true
      },
      "cell_type": "code",
      "source": "def hamming(s, t):\n    return len (list(filter(lambda pair: pair[0]!=pair[1], zip(list(s),list(t)))))\n\nhamming (\"ACGATCGACG\",\"ACTGCTGTCA\")",
      "execution_count": null,
      "outputs": []
    },
    {
      "metadata": {},
      "cell_type": "markdown",
      "source": "### Nota per python 2:\nzip creates a list of tuples, so if you have two sequences of 3 billion bases, it creates an list contain 3 billion tuples, which would require gigabytes of memory (in addition to the original two sequences). izip creates an iterator which means the list is not built, and instead a function is returned, which gives you the tuples one-by-one, so you only ever have a single tuple in memory.\nSimilarly, sum([a != b for a, b in zip(s1, s2)]) builds yet another list with a list comprehension and then sums the elements. While sum(a != b for a, b in zip(s1, s2)) (note the lack of square brackets) builds a generator and so sums the elements as it goes along.  \n"
    },
    {
      "metadata": {
        "trusted": true
      },
      "cell_type": "code",
      "source": "sum([a != b for a, b in zip(stringa,stringb)])",
      "execution_count": 44,
      "outputs": [
        {
          "output_type": "execute_result",
          "execution_count": 44,
          "data": {
            "text/plain": "492"
          },
          "metadata": {}
        }
      ]
    },
    {
      "metadata": {
        "trusted": true
      },
      "cell_type": "code",
      "source": "from operator import ne\n\nprint (sum(map(ne, stringa,stringb)))",
      "execution_count": 50,
      "outputs": [
        {
          "output_type": "stream",
          "text": "492\n",
          "name": "stdout"
        }
      ]
    },
    {
      "metadata": {
        "trusted": true
      },
      "cell_type": "code",
      "source": "",
      "execution_count": null,
      "outputs": []
    }
  ],
  "metadata": {
    "kernelspec": {
      "name": "python36",
      "display_name": "Python 3.6",
      "language": "python"
    },
    "language_info": {
      "mimetype": "text/x-python",
      "nbconvert_exporter": "python",
      "name": "python",
      "pygments_lexer": "ipython3",
      "version": "3.6.6",
      "file_extension": ".py",
      "codemirror_mode": {
        "version": 3,
        "name": "ipython"
      }
    }
  },
  "nbformat": 4,
  "nbformat_minor": 2
}