{
  "cells": [
    {
      "metadata": {
        "trusted": true
      },
      "cell_type": "code",
      "source": "string = \"CGGAAAACAGAAGCACATAGAGTGCTACATGCCTAACCCTCCCACGTTAAGTGAAATCGTTACGTGGCGATTATATCCGTCCCAACGTGGGGAACTCCGAAGGAATTGGTAATGGCTTATATTGATTATTCGGTAACATTTTGCTCCGTCTGGTAGTCTTCATATCGGGATCCCTCTTGCTAGATGGGTAGAGCGTATAACACTCGCACACTCATGGAACGGATGCGGCGTTTGTCTTTAGCTAGCAGTGCATCGGGTAAGCCTCGCGAGACGTGTGTTCTTCAGGGCGGGGGAGTTCCATGCCAGTCATACCGACTTGCAGATCGGTGCTCTCTTATCCACTAAAACGTCACCGTGCTTCATCACAATGTAGCCATTCCAGAGATCCGGATAGCGTCGGACAGTCGCAAATGGCTTAATAGACATAATCCCAGGACCGAGGGGTTAGTTGGCTATATTTTAAGGATACTTAGTCCCGCGTTTTTGAGGAGTCCAGGATTACCACGGTAACTCACTAGTTGGGCTACTTGTCTTCGTCCAATAAAGATAATCGCTAACCCAGTCTAGGATTTACGATCGCAACCTTGGAATGAGCTTACTTTCTTGAATATCGGAACAGGCTGTTGGGCGTATCGAGTCTGTCCTCATTTAAGTACCGATTTCTTTGAGACGCTATCTATCTTAACAGCTCAAACACACACATAAGCTTCCGGACAATGTCTGTTTGCCTAATCTTTAAGATCTGGTAAAGTTACATTATGAATGTAACACTGGAGCGCAGTACACGGATTCTGTCGGGACGGAGTGAAGGGCTTAATTCGGAGCGCATATAACACGGAGTATCAGGTGGTCATGGGTGTATGTAATGAAGGTGCTAACCTTGCTTCCTGAACCCAGTTGCTGGCCAACTTCCCAATAAGCAGATAAGAACGATCTATCTGTCGCCTCTCGGGTCGTTTAAA\"\n\ndizio= {}\nuniqc = set(string)\nfor letter in uniqc:\n dizio[letter]= 0\nfor char in string:\n    if char in dizio:\n        dizio[char]= dizio[char]+1 #oppure +=1 tanto sono interi\ndizio",
      "execution_count": 11,
      "outputs": [
        {
          "output_type": "execute_result",
          "execution_count": 11,
          "data": {
            "text/plain": "{'G': 232, 'A': 246, 'T': 266, 'C': 218}"
          },
          "metadata": {}
        }
      ]
    },
    {
      "metadata": {
        "trusted": true
      },
      "cell_type": "markdown",
      "source": "# Best practice from other users\n ### usare count()"
    },
    {
      "metadata": {
        "trusted": true
      },
      "cell_type": "code",
      "source": "   def qt(s):\n      return s.count(\"A\"), s.count(\"G\"), s.count(\"C\"), s.count(\"T\")",
      "execution_count": 1,
      "outputs": []
    },
    {
      "metadata": {},
      "cell_type": "markdown",
      "source": "### usare map  e l' operatore * che unpack l 'iterabile\nmap generates an Iterator. The * Operator expands the iterator to function arguments to the print function."
    },
    {
      "metadata": {
        "trusted": true
      },
      "cell_type": "code",
      "source": "print(*map(input().count, \"ACGT\"))",
      "execution_count": 3,
      "outputs": [
        {
          "output_type": "stream",
          "name": "stdout",
          "text": "ACCCCC\n1 5 0 0\n"
        }
      ]
    },
    {
      "metadata": {},
      "cell_type": "markdown",
      "source": "### generatore invece che un iterabile "
    },
    {
      "metadata": {
        "trusted": true
      },
      "cell_type": "code",
      "source": "seq =\"ACCCGT\"\nprint(*(seq.count(nuc) for nuc in \"ACGT\"))",
      "execution_count": 10,
      "outputs": [
        {
          "output_type": "stream",
          "text": "1 3 1 1\n",
          "name": "stdout"
        }
      ]
    },
    {
      "metadata": {},
      "cell_type": "markdown",
      "source": "### Accesso da file : scritto in markdown perchè non ho il file\n\nwith open('rosalind_dna.txt', 'rb') as f1:\n    data = f1.read()\n    blah = {'A': 0, 'T': 0, 'C': 0, 'G': 0}\n    for i in data:\n        blah[i] += 1\n    for key in sorted(blah.keys()):\n        print blah[key],\n        \n        with open chiude automaticamente il file quando finito\n       "
    },
    {
      "metadata": {},
      "cell_type": "markdown",
      "source": "## Note \nin generale l' approccio con dizionario, magari letto da files in batch di dimensioni prefissate , è da preferire per sequenze molto lunghe perchè percorre la stringa una volta sola\n"
    },
    {
      "metadata": {},
      "cell_type": "markdown",
      "source": "### collector"
    },
    {
      "metadata": {
        "trusted": true
      },
      "cell_type": "code",
      "source": "from collections import Counter\nfor k,v in sorted(Counter(\"AGGCT\").items()):\n    print (k,v),",
      "execution_count": 14,
      "outputs": [
        {
          "output_type": "stream",
          "text": "A 1\nC 1\nG 2\nT 1\n",
          "name": "stdout"
        }
      ]
    },
    {
      "metadata": {
        "trusted": true
      },
      "cell_type": "code",
      "source": "",
      "execution_count": null,
      "outputs": []
    }
  ],
  "metadata": {
    "kernelspec": {
      "name": "python36",
      "display_name": "Python 3.6",
      "language": "python"
    },
    "language_info": {
      "mimetype": "text/x-python",
      "nbconvert_exporter": "python",
      "name": "python",
      "pygments_lexer": "ipython3",
      "version": "3.6.6",
      "file_extension": ".py",
      "codemirror_mode": {
        "version": 3,
        "name": "ipython"
      }
    }
  },
  "nbformat": 4,
  "nbformat_minor": 2
}