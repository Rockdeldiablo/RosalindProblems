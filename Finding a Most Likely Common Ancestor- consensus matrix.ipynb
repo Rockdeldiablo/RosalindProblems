{
  "cells": [
    {
      "metadata": {
        "trusted": true
      },
      "cell_type": "code",
      "source": " \nfrom operator import itemgetter\nimport numpy as np\nimport pandas as pd\ncodice=[]\nnome = []\ntemp=[]\ncount = 0\n\n\nwith open ('files/rosalind_cons.txt') as file:\n    lines = file.readlines()\n    for line in lines:\n        if \">\" in line:\n            line =line.strip(\"\\n\").strip(\">\")\n            nome.append(line)\n            codice.append(list(temp))\n            temp.clear()\n        else:\n            line = line.strip(\"\\n\")\n            for chara in line:\n                temp.append(chara)\n    codice.append(list(temp))\n    ###############\n    strands = [x.strip() for x in lines]\n\n    matrix = zip(*strands)\n    \n    ###########################\n\ncodice.pop(0)  \n\n\npair = list(zip (nome,codice))\n\n\nlungh = max(map( len, codice))\ny=np.array([xi+[None]*(lungh-len(xi)) for xi in codice])\n\n \ndef number (lista):\n    dizio = {}\n    dizio[\"A\"]= lista.count(\"A\")\n    dizio[\"C\"]= lista.count(\"C\")\n    dizio[\"G\"]= lista.count(\"G\")\n    dizio[\"T\"]= lista.count(\"T\")\n    #result = max(dizio.items(), key= itemgetter(1))\n    return dizio\n\n\nindex = ['A','C', 'G','T']\ndf = pd.DataFrame(index=index,columns = range(lungh))\ndf = df.fillna(0) # with 0s rather than NaNs\nfor i in range(0,lungh):\n    lettera= number(list(y[:,i]))\n    df[i]= lettera.values()\n\n\n\ndef consensusf(df):\n    lengh= df.shape[1]\n\n    consensus =[]\n    for i in range(lengh):\n        consensus.append( df[i].idxmax())\n    return \"\".join(consensus)\n\n#print(consensusf(df))\ndff= df.rename( index=lambda s: s + ':')\n#print(dff.to_string(header=False))",
      "execution_count": 5,
      "outputs": [
        {
          "output_type": "stream",
          "text": "[]\n",
          "name": "stdout"
        }
      ]
    },
    {
      "metadata": {
        "trusted": true
      },
      "cell_type": "code",
      "source": "print(A)",
      "execution_count": 6,
      "outputs": [
        {
          "output_type": "stream",
          "text": "[]\n",
          "name": "stdout"
        }
      ]
    },
    {
      "metadata": {
        "trusted": true
      },
      "cell_type": "code",
      "source": "",
      "execution_count": null,
      "outputs": []
    }
  ],
  "metadata": {
    "kernelspec": {
      "name": "python36",
      "display_name": "Python 3.6",
      "language": "python"
    },
    "language_info": {
      "mimetype": "text/x-python",
      "nbconvert_exporter": "python",
      "name": "python",
      "pygments_lexer": "ipython3",
      "version": "3.6.6",
      "file_extension": ".py",
      "codemirror_mode": {
        "version": 3,
        "name": "ipython"
      }
    }
  },
  "nbformat": 4,
  "nbformat_minor": 2
}