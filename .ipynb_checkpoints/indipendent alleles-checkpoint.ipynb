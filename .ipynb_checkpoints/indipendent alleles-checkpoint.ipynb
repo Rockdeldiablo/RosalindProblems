{
  "cells": [
    {
      "metadata": {
        "trusted": true
      },
      "cell_type": "code",
      "source": "import operator as op\nfrom functools import reduce\n\ndef ncr(n, r):\n    r = min(r, n - r)\n    if r == 0:\n        return 1\n    numer = reduce(op.mul, range(n, n - r, -1)) #utile per calcolare il fattoriale di un numero\n    denom = reduce(op.mul, range(1, r + 1))\n    return numer // denom\n\n\nk, n = map(int, input().split())\n\nacc = 0\n\n# changing these variable names to make it clear to read.\n# N = 2^k = total number of organisms at the kth level.\n# K equals to the number of 'successes'\n\nN = pow(2, k)\nK = n\n\nfor i in range(K, N + 1):\n    combinations = ncr(N, i)\n    success = pow(0.25, i)\n    failure = pow(0.75, N - i)\n    acc += (combinations * success * failure)\n\nprint (round(acc, 3))",
      "execution_count": 6,
      "outputs": [
        {
          "output_type": "stream",
          "name": "stdout",
          "text": "7 35\n0.301\n"
        }
      ]
    },
    {
      "metadata": {
        "trusted": true
      },
      "cell_type": "code",
      "source": "from scipy.stats import binom\n1 - binom.cdf(n - 1, 2 ** k, 0.25)",
      "execution_count": 9,
      "outputs": [
        {
          "output_type": "execute_result",
          "execution_count": 9,
          "data": {
            "text/plain": "0.30060220579105024"
          },
          "metadata": {}
        }
      ]
    },
    {
      "metadata": {
        "trusted": true
      },
      "cell_type": "code",
      "source": "from math import factorial\n\ndef binomial(n,k):\n    return factorial(n) / (factorial(k)*factorial(n-k))\n\ndef prob(pop,ind,p):\n    return binomial(pop, ind) * ((p)**ind) * ((1-p) ** (pop-ind))\n\ndef at_least(gen,ind,p):\n    x = []\n    for i in range(ind,2**gen+1):\n        x.append(prob(2**gen,i,p))\n    return sum(x)\n\nprint at_least(5,9,0.25)",
      "execution_count": null,
      "outputs": []
    }
  ],
  "metadata": {
    "kernelspec": {
      "name": "python36",
      "display_name": "Python 3.6",
      "language": "python"
    },
    "language_info": {
      "mimetype": "text/x-python",
      "nbconvert_exporter": "python",
      "name": "python",
      "pygments_lexer": "ipython3",
      "version": "3.6.6",
      "file_extension": ".py",
      "codemirror_mode": {
        "version": 3,
        "name": "ipython"
      }
    }
  },
  "nbformat": 4,
  "nbformat_minor": 2
}