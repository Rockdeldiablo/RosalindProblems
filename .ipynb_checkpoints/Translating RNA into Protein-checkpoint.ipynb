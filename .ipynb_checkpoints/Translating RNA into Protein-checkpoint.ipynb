{
  "cells": [
    {
      "metadata": {
        "trusted": true
      },
      "cell_type": "code",
      "source": "\nfrom pprint import pprint\ndizio = {}\nfor line in open ('files/tabella.txt','r'):\n\n        coppie = line.split('      ')\n        coppie = list(map(lambda s: s.strip(), coppie))\n        for el in coppie:\n            codone,*ammino = el.split(\" \")   #*serve per l 'extended unpacking'\n            dizio[codone]= ammino[0]\n            \npprint(dizio,width = 4,depth=3)",
      "execution_count": 4,
      "outputs": [
        {
          "output_type": "stream",
          "text": "{'AAA': 'K',\n 'AAC': 'N',\n 'AAG': 'K',\n 'AAU': 'N',\n 'ACA': 'T',\n 'ACC': 'T',\n 'ACG': 'T',\n 'ACU': 'T',\n 'AGA': 'R',\n 'AGC': 'S',\n 'AGG': 'R',\n 'AGU': 'S',\n 'AUA': 'I',\n 'AUC': 'I',\n 'AUG': 'M',\n 'AUU': 'I',\n 'CAC': 'H',\n 'CAU': 'H',\n 'CCA': 'P',\n 'CCC': 'P',\n 'CCG': 'P',\n 'CCU': 'P',\n 'CGC': 'R',\n 'CGG': 'R',\n 'CGU': 'R',\n 'CUA': 'L',\n 'CUC': 'L',\n 'CUG': 'L',\n 'CUU': 'L',\n 'GAA': 'E',\n 'GAC': 'D',\n 'GAG': 'E',\n 'GAU': 'D',\n 'GCA': 'A',\n 'GCC': 'A',\n 'GCG': 'A',\n 'GCU': 'A',\n 'GGA': 'G',\n 'GGC': 'G',\n 'GGG': 'G',\n 'GGU': 'G',\n 'GUA': 'V',\n 'GUC': 'V',\n 'GUG': 'V',\n 'GUU': 'V',\n 'UAA': 'Stop',\n 'UAC': 'Y',\n 'UAG': 'Stop',\n 'UAU': 'Y',\n 'UCA': 'S',\n 'UCC': 'S',\n 'UCG': 'S',\n 'UCU': 'S',\n 'UGA': 'Stop',\n 'UGC': 'C',\n 'UGG': 'W',\n 'UGU': 'C',\n 'UUA': 'L',\n 'UUC': 'F',\n 'UUG': 'L',\n 'UUU': 'F'}\n",
          "name": "stdout"
        }
      ]
    },
    {
      "metadata": {
        "trusted": true
      },
      "cell_type": "code",
      "source": "testo = \"AUGGCCAUGGCGCCCAGAACUGAGAUCAAUAGUACCCGUAUUAACGGGUGA\"\ntranslation = \"\"\nfor i in range(0,len(testo)-2,3):\n    seq= testo[i:i+3]\n    if seq in dizio and dizio[seq] != \"Stop\" :\n        translation += dizio[seq]\n    else:\n        break\nprint(translation)\n    #print(seq)\n    #if  seq in dizio:\n        #print (dizio.get(\"seq\",\"none\"))",
      "execution_count": 6,
      "outputs": [
        {
          "output_type": "stream",
          "text": "MAMAPRTEINSTRING\n",
          "name": "stdout"
        }
      ]
    },
    {
      "metadata": {
        "trusted": true
      },
      "cell_type": "code",
      "source": "if translation == \"MAMAPRTEINSTRING\":\n    print(\"okay\")",
      "execution_count": 7,
      "outputs": [
        {
          "output_type": "stream",
          "text": "okay\n",
          "name": "stdout"
        }
      ]
    },
    {
      "metadata": {
        "trusted": true
      },
      "cell_type": "code",
      "source": "\n\nRNA_CODON_TABLE = {\n\n    'UUU': 'F',     'CUU': 'L',     'AUU': 'I',     'GUU': 'V',\n\n    'UUC': 'F',     'CUC': 'L',     'AUC': 'I',     'GUC': 'V',\n\n    'UUA': 'L',     'CUA': 'L',     'AUA': 'I',     'GUA': 'V',\n\n    'UUG': 'L',     'CUG': 'L',     'AUG': 'M',     'GUG': 'V',\n\n    'UCU': 'S',     'CCU': 'P',     'ACU': 'T',     'GCU': 'A',\n\n    'UCC': 'S',     'CCC': 'P',     'ACC': 'T',     'GCC': 'A',\n\n    'UCA': 'S',     'CCA': 'P',     'ACA': 'T',     'GCA': 'A',\n\n    'UCG': 'S',     'CCG': 'P',     'ACG': 'T',     'GCG': 'A',\n\n    'UAU': 'Y',     'CAU': 'H',     'AAU': 'N',     'GAU': 'D',\n\n    'UAC': 'Y',     'CAC': 'H',     'AAC': 'N',     'GAC': 'D',\n\n    'UAA': 'Stop',  'CAA': 'Q',     'AAA': 'K',     'GAA': 'E',\n\n    'UAG': 'Stop',  'CAG': 'Q',     'AAG': 'K',     'GAG': 'E',\n\n    'UGU': 'C',     'CGU': 'R',     'AGU': 'S',     'GGU': 'G',\n\n    'UGC': 'C',     'CGC': 'R',     'AGC': 'S',     'GGC': 'G',\n\n    'UGA': 'Stop',  'CGA': 'R',     'AGA': 'R',     'GGA': 'G',\n\n    'UGG': 'W',     'CGG': 'R',     'AGG': 'R',     'GGG': 'G'\n\n}\n\n\n\n\n\ndef protein_string(mrna):\n\n    result = ''\n\n\n\n    for i in range(0, len(mrna), 3):\n\n        symbol = RNA_CODON_TABLE[mrna[i:i+3]]\n\n        if symbol == 'Stop':\n\n            break\n\n        result += symbol\n\n\n\n    return result\n\n\n\n\n\n\nsmall_dataset = \"AUGGCCAUGGCGCCCAGAACUGAGAUCAAUAGUACCCGUAUUAACGGGUGA\"\n\n    #large_dataset = open('files/tabella.txt').read()\n\n\n\nprint (protein_string(small_dataset))",
      "execution_count": 13,
      "outputs": [
        {
          "output_type": "stream",
          "text": "MAMAPRTEINSTRING\n",
          "name": "stdout"
        }
      ]
    },
    {
      "metadata": {
        "trusted": true
      },
      "cell_type": "code",
      "source": "def returnProtein(rna):\n\n    rnaCodons = {\"UUU\":\"F\", \"UUC\":\"F\", \"UUA\":\"L\", \"UUG\":\"L\",\n    \"UCU\":\"S\", \"UCC\":\"S\", \"UCA\":\"S\", \"UCG\":\"S\",\n    \"UAU\":\"Y\", \"UAC\":\"Y\", \"UAA\":\"Stop\", \"UAG\":\"Stop\",\n    \"UGU\":\"C\", \"UGC\":\"C\", \"UGA\":\"Stop\", \"UGG\":\"W\",\n    \"CUU\":\"L\", \"CUC\":\"L\", \"CUA\":\"L\", \"CUG\":\"L\",\n    \"CCU\":\"P\", \"CCC\":\"P\", \"CCA\":\"P\", \"CCG\":\"P\",\n    \"CAU\":\"H\", \"CAC\":\"H\", \"CAA\":\"Q\", \"CAG\":\"Q\",\n    \"CGU\":\"R\", \"CGC\":\"R\", \"CGA\":\"R\", \"CGG\":\"R\",\n    \"AUU\":\"I\", \"AUC\":\"I\", \"AUA\":\"I\", \"AUG\":\"M\",\n    \"ACU\":\"T\", \"ACC\":\"T\", \"ACA\":\"T\", \"ACG\":\"T\",\n    \"AAU\":\"N\", \"AAC\":\"N\", \"AAA\":\"K\", \"AAG\":\"K\",\n    \"AGU\":\"S\", \"AGC\":\"S\", \"AGA\":\"R\", \"AGG\":\"R\",\n    \"GUU\":\"V\", \"GUC\":\"V\", \"GUA\":\"V\", \"GUG\":\"V\",\n    \"GCU\":\"A\", \"GCC\":\"A\", \"GCA\":\"A\", \"GCG\":\"A\",\n    \"GAU\":\"D\", \"GAC\":\"D\", \"GAA\":\"E\", \"GAG\":\"E\",\n    \"GGU\":\"G\", \"GGC\":\"G\", \"GGA\":\"G\", \"GGG\":\"G\",}\n    \n    codons = []\n    for i in range(0,len(rna),3):\n        if rnaCodons[rna[i:i+3]] != \"Stop\":\n            codons.append(rna[i:i+3])\n        else:\n            break\n    protein = ''.join([rnaCodons[codon] for codon in codons])\n    return protein",
      "execution_count": 21,
      "outputs": []
    },
    {
      "metadata": {
        "trusted": true
      },
      "cell_type": "code",
      "source": "s = 'AUGGCCAUGGCGCCCAGAACUGAGAUCAAUAGUACCCGUAUUAACGGGUGA'\n \nreturnProtein(s)",
      "execution_count": 22,
      "outputs": [
        {
          "output_type": "execute_result",
          "execution_count": 22,
          "data": {
            "text/plain": "'MAMAPRTEINSTRING'"
          },
          "metadata": {}
        }
      ]
    },
    {
      "metadata": {
        "trusted": true,
        "scrolled": true
      },
      "cell_type": "code",
      "source": "!pip install biopython\n\n",
      "execution_count": 137,
      "outputs": [
        {
          "output_type": "stream",
          "text": "Collecting biopython\n\u001b[?25l  Downloading https://files.pythonhosted.org/packages/83/3d/e0c8a993dbea1136be90c31345aefc5babdd5046cd52f81c18fc3fdad865/biopython-1.76-cp36-cp36m-manylinux1_x86_64.whl (2.3MB)\n\u001b[K     |████████████████████████████████| 2.3MB 117kB/s eta 0:00:01\n\u001b[?25hRequirement already satisfied: numpy in /home/nbuser/anaconda3_501/lib/python3.6/site-packages (from biopython) (1.16.2)\nInstalling collected packages: biopython\nSuccessfully installed biopython-1.76\n\u001b[33mWARNING: You are using pip version 19.3.1; however, version 20.0.2 is available.\nYou should consider upgrading via the 'pip install --upgrade pip' command.\u001b[0m\n",
          "name": "stdout"
        }
      ]
    },
    {
      "metadata": {
        "trusted": true
      },
      "cell_type": "code",
      "source": "from Bio.Seq import Seq\nfrom Bio.Alphabet import generic_rna\nfile = open(\"../rosalind_prot.txt\", \"r\")\nrna = Seq(file.read(),generic_rna)\nprotein = rna.translate()\nprint (protein)",
      "execution_count": 141,
      "outputs": [
        {
          "output_type": "stream",
          "text": "MKTVGNSSWTRSLPSCEETQGLQRGVMSIGPNRKSLQWKASLHAFGKLLRVTPPSLVGTCLLLALVSCPSSPLTVLFIKYILRGLGGIRAYLKMSARMVDFKSGHLPNSCGLRGPCMRYDRLDLKQIWRVSATPEEVSFNRVESYLFLAGYGRTSCRCNYVRQQSCISYTASPNQAIPQVELKGSPHARANATDYREGTCGLGPVLPIEALGRSLTTHLTGSGKTISPKRPRNVLSIRGMDLIPQSEIIFARGLLETLRRRSLTYPLGLILLTRPSIERHLSMGGRSLPLIMKCASPCSCLVQGDAGAPQERSLTMHGMCGGDPSSITCRDRADPSGGSSQRHKRRVQVTGCLASLGNHPPIECSGLGVEVNKEYAGQIEHINREAKGCKGTSNFGPVPSTYVYTRGLAMANQSVLDDLTKCRDRPLERCHKFICGRIPVHIDIPKVHVIRRGSDIWLCVHSGELKPYYSSTVTGPNIPARINTVAFLFLGWGLAFNSWLDFYPCLFVKSGGTPTLPVDDRDIRSPVLGACTWLKILWRHYSKFSLIHSVNNSQKTAYFISTDYSSIGPNPCSRAFESCSYDTRWELTIHRQTPPLSIMDGSRAIPNLLITRLASRDKTRTFDNQSHSRRHRLFPFRPLSADDGLDLTFCRCMPLLQIAFTKPGGHDRPGKCYLTCTPISSRQPHGFTGSPWLRIGPVLTLAFEPRSCQIVLASRKNQMQGNHMIVRLARSEEPSGVAVNYSNFHWSRFSGKRISDVTRPIIWPSSEIHLQLYQPVCSKGTEFPTMCDSISVASPHNQASWEEAARMCSTACVTSSQLVTAGGSKTSLHAIVIFDNLLRLVCGASTGLKTYIYYIKNRERSFISYSTTDTLYTAGELVLVLVTTCSPQVSFVCIPRLSIAPSEPLANAYWNLLPVTPRTGGSSPGNLGRWVFSRGNPSRPPGPGFMIRSLGETVTCSLSVIRPTRGRRELPLSLPGPNHCHVALLDLLSLEFLDDTPTWDSRFLKGYRVFKVLTLDTPPSTALPIFSTIAQSASDSTYLRDRYIPRGESKMGLIRSVNKRPRQMSLRALPTLQPKGTDLLTYRTPLKMISWVPQFRNSPLGTEQIESHLTNWLSAVTILNHTVFKHNLPRERAVYCSSQWQRAEIDAVPARECCQPSSAQRRTYFSIFRCQYILGQMVNSCEFGSSLMAAYLHRAGNIFTCPVFSNRRVLLFRLKVSSVNNNMGTRLYKYDYAPQILLAAQGRHIRNCVHAIINVHKSCRPSMALCVHVGPGTGFLSNQGHRPSSSPNPTTQPNYSLLPVKPDNPPVRVTDECSGIVIIVLIFQKHCNTLKRMVTLDLHIAVSQLPLIHHKPSCMYMGNSTRWLLTCLHQCISLANVIHMHLTTPSGEACACTSAISRRPISSRNLWAGRSAASHLEYWVPGGCASANDRPEGARRYRTFVSVVLYFSIAPGLSSLRLGGAQLRCGNDPCPRYTHKVPVKISAKYTCWDVPCSGLDRRTFQTEIIRMPGLPLEGISRPVSSVRHQHGIHPRHTYHIMSGALKLVVKVVARLLGVRRIARGPFHTFWPLYCVRQLISPPPGHRLTRGDMLGERPFSAQWAHSGLNHCRRADVTITIPLGTEEGLKRLRKHMVKAMHPTLVKAEFPIVIRPTCGNVTRTPDTKGSTGIDVCVDAITVARRNVGTMYPPTSWILFQHLPSFTSLGLKHTSGPFLPLAFLSTNTEAITLTLSSSHQLIMLLPGSRVLNINPTSAVEDVCYGFIDPLEPNGACKASRLKGTRHLPVSQRPWNRGRQIGRKIRSTVEPVKTVCLGLPASRLDRVTKDKAWLRMQKRDLFNVNPAPMTQPVGMDVPMRLRRRHVEFRAFGLAQHSLSSEWRCRKLVNCKESMAACRRLWGRLGKKCNYGTTMEERRAGSIDEAAPDYTGTFLVRSPRRADNSCCRFEQSLKPRPAPTGRRNVTFPKLELCAWLRVRHRSYSVVGVRRGARQNLPVSQYLHHTRVSESWEHAPPHGPSHPQSPEAFLRNRVLRHRCSPYTAYFIPLKVYWIHPLHASIGFLRAHSTGERTSNDTAPKHYGADDYRVIAIGQKIVHSIVATCIARPPPSPWHRRIKRPRHFSSVSYHNVVILCVQADAARVLPETVHDRVDYALGSLASNLRTSTTTRAQENTSLILLPIWTLPDGIVLGKSSPLNVNKVKRNRGNALSYVHNIRKRASVQPRSLWCLLSRHVNSSLLVPKARSIERRRMGFELLHTSLAHGHCLTHQHCEEADYLFTVALRHTSEPPAEQYELTQTIRGALLSHCDGATALDRNAWRSSPSRLAHLPDKAARAKRTARNNLRRSERKHNCRRPKHSRETPPIGRVHGSSALGRKIPLRFACATVSATASTTVVRPRRDKRQLPFSSESGGPPRCRRSLRPPLPSCAPSPPRFYCDDQTCGINFGHLARDHGLTALYSLPSSQSATRNLVASLVQDLARTYHQQLRVPRRRIVTGSGHHRLRGLLAISIYRDRELIEETSPSGRALAMSMWQKTDTVDAASVLSKYDDDYHWLSPQGPNRLSIAYCFCVNCIGHAESATSSHAHLPPKPFILGRTRRSRRTTLPYCKARNEHVINIEYYTASPNNTLAGRYLSTGQAGAPPCRQMSCDTCDSKKLIVKSTFVTTRVQEASAGPPFIDCLLSPNWSISRCNTVYPNTPSRAGRIETHCHSFDPTYIHWSNSRCLLPTHGPKARSQAHPIRVIQLILRHNNCMLRNGKGSRGFNRLILPSTVRQIWDGIVLTPCKGVRRTSDLLHHLNISVSPSLDASVFEIVAARSSCASQPREINNKMIYIPTQPELQFVFAQNPRTDLRDVVIRLARAICSCTALASDGFCLCNTNCVTGFDWKANGARTLGPCLEQWQGNLWTGSVGPVCSIETARSDPADGPVRQRCGQRQGRFALRHTLHTLARTCPGRRVSLVWPKQSSRQQDQLNVIPCSGIRLVADKELTVVRLGPPSWYGVSSKNRFIYR*\n",
          "name": "stdout"
        },
        {
          "output_type": "stream",
          "text": "/home/nbuser/anaconda3_501/lib/python3.6/site-packages/Bio/Seq.py:2859: BiopythonWarning: Partial codon, len(sequence) not a multiple of three. Explicitly trim the sequence or add trailing N before translation. This may become an error in future.\n  BiopythonWarning,\n",
          "name": "stderr"
        }
      ]
    },
    {
      "metadata": {
        "trusted": true
      },
      "cell_type": "code",
      "source": "",
      "execution_count": null,
      "outputs": []
    }
  ],
  "metadata": {
    "kernelspec": {
      "name": "python36",
      "display_name": "Python 3.6",
      "language": "python"
    },
    "language_info": {
      "mimetype": "text/x-python",
      "nbconvert_exporter": "python",
      "name": "python",
      "pygments_lexer": "ipython3",
      "version": "3.6.6",
      "file_extension": ".py",
      "codemirror_mode": {
        "version": 3,
        "name": "ipython"
      }
    }
  },
  "nbformat": 4,
  "nbformat_minor": 2
}