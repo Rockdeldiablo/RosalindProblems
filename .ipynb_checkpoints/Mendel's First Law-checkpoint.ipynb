{
  "cells": [
    {
      "metadata": {
        "trusted": true
      },
      "cell_type": "markdown",
      "source": "# mendel's law\nProbability is the mathematical study of randomly occurring phenomena. We will model such a phenomenon with a random variable, which is simply a variable that can take a number of different distinct outcomes depending on the result of an underlying random process.\nFor example, say that we have a bag containing 3 red balls and 2 blue balls. If we let X represent the random variable corresponding to the color of a drawn ball, then the probability of each of the two outcomes is given by Pr(X=red)=35 and Pr(X=blue)=25.\nRandom variables can be combined to yield new random variables. Returning to the ball example, let Y\nmodel the color of a second ball drawn from the bag (without replacing the first ball). The probability of Y being red depends on whether the first ball was red or blue. To represent all outcomes of \nX and Y, we therefore use a probability tree diagram. This branching diagram represents all possible individual probabilities for X and Y, with outcomes at the endpoints (\"leaves\") of the tree. The probability of any outcome is given by the product of probabilities along the path from the beginning of the tree; see Figure 2 for an illustrative example.\nAn event is simply a collection of outcomes. Because outcomes are distinct, the probability of an event can be written as the sum of the probabilities of its constituent outcomes. For our colored ball example, let \n\nA be the event \"Y is blue.\" \n\nPr(A) is equal to the sum of the probabilities of two different outcomes: \n\nPr(X=blue and Y=blue)+Pr(X=red and Y=blue), or \n\n\n\n\n#random.sample(set([1, 2, 3, 4, 5, 6]), 2)"
    },
    {
      "metadata": {
        "trusted": true
      },
      "cell_type": "code",
      "source": " #brute force solution : suing a monte carlo  approach to calculate the probability\n\n#first,second,third = input().split()\nimport random",
      "execution_count": 2,
      "outputs": []
    },
    {
      "metadata": {
        "trusted": true
      },
      "cell_type": "code",
      "source": "first,second,third = 2,2,2\npopo =[]\ndizio = {}\n\nfor i in range(0, first):\n    dizio[\"dh-\"+str(i)]= [1,1]\n    popo.append(\"dh-\"+str(i))\nfor o in range(0, second):\n    dizio[\"ez-\"+str(o)]= [1,0]\n    popo.append(\"ez-\"+str(o))\nfor p in range(0, third):\n    dizio[\"rh-\"+str(p)]= [0,0]\n    popo.append(\"rh-\"+str(p))",
      "execution_count": 1,
      "outputs": []
    },
    {
      "metadata": {
        "trusted": true
      },
      "cell_type": "code",
      "source": "print(dizio)\nrandom.seed(2)\nprint(random.sample(popo,2))",
      "execution_count": 3,
      "outputs": [
        {
          "output_type": "stream",
          "text": "{'dh-0': [1, 1], 'dh-1': [1, 1], 'ez-0': [1, 0], 'ez-1': [1, 0], 'rh-0': [0, 0], 'rh-1': [0, 0]}\n['dh-0', 'rh-1']\n",
          "name": "stdout"
        }
      ]
    },
    {
      "metadata": {
        "trusted": true
      },
      "cell_type": "code",
      "source": "prob = {}\nprob[\"dh-dh\"]= 1\nprob[\"dh-rh\"]=1\nprob[\"rh-dh\"]=1\nprob[\"dh-ez\"]= 1\nprob[\"ez-dh\"]= 1\nprob[\"ez-ez\"]= 3/4\nprob[\"rh-rh\"]=0\nprob[\"ez-rh\"]=1/2\nprob[\"rh-ez\"]=1/2\n",
      "execution_count": 4,
      "outputs": []
    },
    {
      "metadata": {
        "trusted": true
      },
      "cell_type": "code",
      "source": "total = first + second + third",
      "execution_count": 112,
      "outputs": []
    },
    {
      "metadata": {
        "trusted": true
      },
      "cell_type": "code",
      "source": "mctotal= init=  5000000\ntot=0\nwhile init >1:\n    testo1,testo2 = random.sample(popo,2)\n    testo1 = testo1.split(\"-\")[0]\n    testo2 = testo2.split(\"-\")[0]\n    pair=testo1+\"-\"+ testo2\n    tot= (tot +prob[pair])\n\n    init -=1\nprint(tot*100/mctotal)",
      "execution_count": 6,
      "outputs": [
        {
          "output_type": "stream",
          "text": "78.3149\n",
          "name": "stdout"
        }
      ]
    },
    {
      "metadata": {
        "trusted": true
      },
      "cell_type": "markdown",
      "source": "## analytical  approach"
    },
    {
      "metadata": {
        "trusted": true
      },
      "cell_type": "code",
      "source": "\ndominant, hetero, recessive = 2,2,2\n\ntotal = dominant + hetero + recessive\n\nr_r = (recessive / total) * ((recessive - 1) / (total - 1))\nh_h = (hetero / total) * ((hetero - 1) / (total - 1))\nh_r = (hetero / total) * (recessive / (total - 1)) +(recessive / total) * (hetero / (total - 1))\n\nrecessive_total = r_r + h_h * 1/4 + h_r * 1/2\n\nprint(1 - recessive_total)",
      "execution_count": 3,
      "outputs": [
        {
          "output_type": "stream",
          "text": "0.7833333333333333\n",
          "name": "stdout"
        }
      ]
    },
    {
      "metadata": {
        "trusted": true
      },
      "cell_type": "code",
      "source": "",
      "execution_count": null,
      "outputs": []
    }
  ],
  "metadata": {
    "kernelspec": {
      "name": "python36",
      "display_name": "Python 3.6",
      "language": "python"
    },
    "language_info": {
      "mimetype": "text/x-python",
      "nbconvert_exporter": "python",
      "name": "python",
      "pygments_lexer": "ipython3",
      "version": "3.6.6",
      "file_extension": ".py",
      "codemirror_mode": {
        "version": 3,
        "name": "ipython"
      }
    }
  },
  "nbformat": 4,
  "nbformat_minor": 2
}