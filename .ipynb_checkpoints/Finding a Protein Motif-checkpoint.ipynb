{
  "cells": [
    {
      "metadata": {
        "trusted": true
      },
      "cell_type": "code",
      "source": "#!wget http://www.uniprot.org/uniprot/B5ZC00.fasta -o files/B5ZC00.fasta",
      "execution_count": 1,
      "outputs": []
    },
    {
      "metadata": {
        "trusted": true
      },
      "cell_type": "code",
      "source": "from pprint import pprint\nfrom operator import itemgetter\nimport re\ndizio = {}\nfor line in open ('files/tabella.txt','r'):\n \n\n        coppie = line.split('      ')\n        coppie = list(map(lambda s: s.strip(), coppie))\n        for el in coppie:\n            codone,*ammino = el.split(\" \")   #*serve per l 'extended unpacking'\n            dizio[codone]= ammino[0]\n",
      "execution_count": 1,
      "outputs": []
    },
    {
      "metadata": {
        "trusted": true
      },
      "cell_type": "code",
      "source": "\n\nnome = []\ncodice= []\ntemp=[]\ncount = 0\n\n\nwith open ('files/B5ZC00.fasta') as file:\n    lines = file.readlines()\n    for line in lines:\n        if \">\" in line:\n            line =line.strip(\"\\n\").strip(\">\")\n            nome.append(line)\n            count = 0\n            codice.append(\"\".join(temp))\n            temp.clear()\n        else:\n            count +=1\n            line = line.strip(\"\\n\")\n            temp.append(line)\n    codice.append(\"\".join(temp))\ncodice.pop(0)\npair = [list(a) for a in zip (nome,codice)]",
      "execution_count": 21,
      "outputs": []
    },
    {
      "metadata": {
        "trusted": true
      },
      "cell_type": "code",
      "source": "print(pair)",
      "execution_count": 22,
      "outputs": [
        {
          "output_type": "stream",
          "text": "[['sp|B5ZC00|SYG_UREU1 Glycine--tRNA ligase OS=Ureaplasma urealyticum serovar 10 (strain ATCC 33699 / Western) OX=565575 GN=glyQS PE=3 SV=1', 'MKNKFKTQEELVNHLKTVGFVFANSEIYNGLANAWDYGPLGVLLKNNLKNLWWKEFVTKQKDVVGLDSAIILNPLVWKASGHLDNFSDPLIDCKNCKARYRADKLIESFDENIHIAENSSNEEFAKVLNDYEISCPTCKQFNWTEIRHFNLMFKTYQGVIEDAKNVVYLRPETAQGIFVNFKNVQRSMRLHLPFGIAQIGKSFRNEITPGNFIFRTREFEQMEIEFFLKEESAYDIFDKYLNQIENWLVSACGLSLNNLRKHEHPKEELSHYSKKTIDFEYNFLHGFSELYGIAYRTNYDLSVHMNLSKKDLTYFDEQTKEKYVPHVIEPSVGVERLLYAILTEATFIEKLENDDERILMDLKYDLAPYKIAVMPLVNKLKDKAEEIYGKILDLNISATFDNSGSIGKRYRRQDAIGTIYCLTIDFDSLDDQQDPSFTIRERNSMAQKRIKLSELPLYLNQKAHEDFQRQCQK']]\n",
          "name": "stdout"
        }
      ]
    },
    {
      "metadata": {
        "trusted": true
      },
      "cell_type": "code",
      "source": "print(pair[0][1][84])",
      "execution_count": 27,
      "outputs": [
        {
          "output_type": "stream",
          "text": "N\n",
          "name": "stdout"
        }
      ]
    },
    {
      "metadata": {
        "trusted": true
      },
      "cell_type": "code",
      "source": "def preprocess_mot (motif):\n    motif= re.sub( '\\{(.*?)\\}', lambda m: '[^' + m.group(1) + \"]\" , motif)\n    #motif= re.sub( r'\\{(.*?)\\}','[^\\0]' ,    motif)  \n    print(motif)\n    ",
      "execution_count": 2,
      "outputs": []
    },
    {
      "metadata": {
        "trusted": true
      },
      "cell_type": "code",
      "source": "def finding_motiff(protein,motiff):\n    lista = list(motiff)\n    print(lista)\n    result = re.findall(motiff, protein, flags=0)\n    if result:\n        print(result)\n    else:\n        print(\"uff\")",
      "execution_count": 37,
      "outputs": []
    },
    {
      "metadata": {
        "trusted": true
      },
      "cell_type": "code",
      "source": "finding_motiff(\"asgdsg\",\"afafafa\")",
      "execution_count": 52,
      "outputs": [
        {
          "output_type": "stream",
          "text": "['a', 'f', 'a', 'f', 'a', 'f', 'a']\nuff\n",
          "name": "stdout"
        }
      ]
    },
    {
      "metadata": {
        "trusted": true
      },
      "cell_type": "code",
      "source": "preprocess_mot(\"asdasd{d}\")\nmotif = \"asdasd{d}\"\nprint(re.sub(\"{(.*?)}\", \"[^\\g<1>]\" , motif))",
      "execution_count": 3,
      "outputs": [
        {
          "output_type": "stream",
          "text": "asdasd[^d]\nasdasd[^d]\n",
          "name": "stdout"
        }
      ]
    },
    {
      "metadata": {},
      "cell_type": "markdown",
      "source": "s/\\([abcd]\\)/\\n\\1/g\n'\\\\{.*?\\\\}', \"[^$1]\""
    }
  ],
  "metadata": {
    "kernelspec": {
      "name": "python36",
      "display_name": "Python 3.6",
      "language": "python"
    },
    "language_info": {
      "mimetype": "text/x-python",
      "nbconvert_exporter": "python",
      "name": "python",
      "pygments_lexer": "ipython3",
      "version": "3.6.6",
      "file_extension": ".py",
      "codemirror_mode": {
        "version": 3,
        "name": "ipython"
      }
    }
  },
  "nbformat": 4,
  "nbformat_minor": 2
}